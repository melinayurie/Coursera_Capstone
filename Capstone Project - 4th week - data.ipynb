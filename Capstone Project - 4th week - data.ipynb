{
 "cells": [
  {
   "cell_type": "markdown",
   "metadata": {
    "collapsed": true
   },
   "source": [
    "## Background"
   ]
  },
  {
   "cell_type": "markdown",
   "metadata": {},
   "source": [
    "New York is the most populous city in the United States. Besides that, it is well known that New York is a place where many cultures cross each other due to its strong immigration back in the 19th and 20th century. Because of this, the cuisine of this amazing city comprises many cuisines belonging to various ethinic groups.\n",
    "No industry has borne more mandates from the drive to reduce inequality in the city than the restaurant industry. Today, there is over 27 thousand restaurants in the city and this number just keeps growing. Restaurants are a driving force in New York’s economy and they provide jobs and build careers for thousands of people, and play a vital role in local communities throughout the state. There are some data below:\n",
    "\n",
    "* Restaurants and foodservice jobs represent 9% of the employment in the state\n",
    "* 51.6 billion is the sales number estimated in New York\n"
   ]
  },
  {
   "cell_type": "markdown",
   "metadata": {},
   "source": [
    "## Problem"
   ]
  },
  {
   "cell_type": "markdown",
   "metadata": {},
   "source": [
    "I am a entrepeneur who wants to open a restaurant in New York City. I chose NY because of the opportunities that this city can bring to my business in the future such as customers and providers. On the other hand, NY is a big city and has a lot of neighborhoods that have many peculiarities. I would like to know the best places to start my own restaurant. Here's some information about me:\n",
    "\n",
    "* Maximum rental money: $7000,00\n",
    "* Cuisine: asian"
   ]
  },
  {
   "cell_type": "markdown",
   "metadata": {},
   "source": [
    "## Data"
   ]
  },
  {
   "cell_type": "markdown",
   "metadata": {},
   "source": [
    "* List of Boroughs and neighborhoods of Manhattan with their geodata (latitud and longitud)\n",
    "* Restaurants for each Manhattan neighborhood\n",
    "* BY Demographic data\n",
    "* NY Rent data"
   ]
  },
  {
   "cell_type": "markdown",
   "metadata": {},
   "source": [
    "The first list is responsible for getting us latitud and longitud to introduce into Foursquare to obtain restaurants data per neighborhood. After this, it is important to have a number of restaurant per person (demographic data) to know if the neighborhood is saturated of these business or not. And least but no less important: rent data of each neighborhood. With these information, a KPI could be created to define the best neighborhood to begin a restaurant business."
   ]
  },
  {
   "cell_type": "markdown",
   "metadata": {},
   "source": [
    "These data will be used to answer the following questions:\n",
    "* What is the number of restaurant per capita in each neighborhood?\n",
    "* What is the major type of cuisine in each neighborhood?\n",
    "* Based on these data, what is the best neighborhood to invest?"
   ]
  }
 ],
 "metadata": {
  "kernelspec": {
   "display_name": "Python 3.6",
   "language": "python",
   "name": "python3"
  },
  "language_info": {
   "codemirror_mode": {
    "name": "ipython",
    "version": 3
   },
   "file_extension": ".py",
   "mimetype": "text/x-python",
   "name": "python",
   "nbconvert_exporter": "python",
   "pygments_lexer": "ipython3",
   "version": "3.6.9"
  }
 },
 "nbformat": 4,
 "nbformat_minor": 1
}
